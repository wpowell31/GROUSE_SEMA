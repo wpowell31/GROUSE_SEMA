{
 "cells": [
  {
   "cell_type": "code",
   "execution_count": 1,
   "id": "78ccbab1",
   "metadata": {},
   "outputs": [
    {
     "data": {
      "text/html": [
       "<div>\n",
       "<style scoped>\n",
       "    .dataframe tbody tr th:only-of-type {\n",
       "        vertical-align: middle;\n",
       "    }\n",
       "\n",
       "    .dataframe tbody tr th {\n",
       "        vertical-align: top;\n",
       "    }\n",
       "\n",
       "    .dataframe thead th {\n",
       "        text-align: right;\n",
       "    }\n",
       "</style>\n",
       "<table border=\"1\" class=\"dataframe\">\n",
       "  <thead>\n",
       "    <tr style=\"text-align: right;\">\n",
       "      <th></th>\n",
       "      <th>4-aminobenzoic acid</th>\n",
       "      <th>aclarubicin</th>\n",
       "      <th>adenosine triphosphate</th>\n",
       "      <th>alfentanil</th>\n",
       "      <th>aluminum hydroxide</th>\n",
       "      <th>mitomycin</th>\n",
       "      <th>ammonium chloride</th>\n",
       "      <th>belladonna alkaloids</th>\n",
       "      <th>boric acid</th>\n",
       "      <th>calcium phosphate</th>\n",
       "      <th>...</th>\n",
       "      <th>EYE</th>\n",
       "      <th>CONG</th>\n",
       "      <th>METAB</th>\n",
       "      <th>BLOOD</th>\n",
       "      <th>STAT</th>\n",
       "      <th>DEV</th>\n",
       "      <th>MENTAL</th>\n",
       "      <th>HEARING</th>\n",
       "      <th>ID</th>\n",
       "      <th>Label</th>\n",
       "    </tr>\n",
       "  </thead>\n",
       "  <tbody>\n",
       "    <tr>\n",
       "      <th>0</th>\n",
       "      <td>0</td>\n",
       "      <td>0</td>\n",
       "      <td>0</td>\n",
       "      <td>0</td>\n",
       "      <td>0</td>\n",
       "      <td>0</td>\n",
       "      <td>0</td>\n",
       "      <td>0</td>\n",
       "      <td>0</td>\n",
       "      <td>0</td>\n",
       "      <td>...</td>\n",
       "      <td>1.0</td>\n",
       "      <td>0.0</td>\n",
       "      <td>1.0</td>\n",
       "      <td>0.0</td>\n",
       "      <td>1.0</td>\n",
       "      <td>1.0</td>\n",
       "      <td>1.0</td>\n",
       "      <td>0.0</td>\n",
       "      <td>0.0</td>\n",
       "      <td>0.029630</td>\n",
       "    </tr>\n",
       "    <tr>\n",
       "      <th>1</th>\n",
       "      <td>0</td>\n",
       "      <td>0</td>\n",
       "      <td>0</td>\n",
       "      <td>0</td>\n",
       "      <td>0</td>\n",
       "      <td>0</td>\n",
       "      <td>0</td>\n",
       "      <td>0</td>\n",
       "      <td>0</td>\n",
       "      <td>0</td>\n",
       "      <td>...</td>\n",
       "      <td>0.0</td>\n",
       "      <td>0.0</td>\n",
       "      <td>1.0</td>\n",
       "      <td>0.0</td>\n",
       "      <td>0.0</td>\n",
       "      <td>0.0</td>\n",
       "      <td>0.0</td>\n",
       "      <td>0.0</td>\n",
       "      <td>0.0</td>\n",
       "      <td>-0.045685</td>\n",
       "    </tr>\n",
       "    <tr>\n",
       "      <th>2</th>\n",
       "      <td>0</td>\n",
       "      <td>0</td>\n",
       "      <td>0</td>\n",
       "      <td>0</td>\n",
       "      <td>0</td>\n",
       "      <td>0</td>\n",
       "      <td>0</td>\n",
       "      <td>0</td>\n",
       "      <td>0</td>\n",
       "      <td>0</td>\n",
       "      <td>...</td>\n",
       "      <td>0.0</td>\n",
       "      <td>1.0</td>\n",
       "      <td>1.0</td>\n",
       "      <td>0.0</td>\n",
       "      <td>0.0</td>\n",
       "      <td>0.0</td>\n",
       "      <td>0.0</td>\n",
       "      <td>0.0</td>\n",
       "      <td>0.0</td>\n",
       "      <td>0.015936</td>\n",
       "    </tr>\n",
       "    <tr>\n",
       "      <th>3</th>\n",
       "      <td>0</td>\n",
       "      <td>0</td>\n",
       "      <td>0</td>\n",
       "      <td>0</td>\n",
       "      <td>0</td>\n",
       "      <td>0</td>\n",
       "      <td>0</td>\n",
       "      <td>0</td>\n",
       "      <td>0</td>\n",
       "      <td>0</td>\n",
       "      <td>...</td>\n",
       "      <td>1.0</td>\n",
       "      <td>0.0</td>\n",
       "      <td>1.0</td>\n",
       "      <td>1.0</td>\n",
       "      <td>0.0</td>\n",
       "      <td>0.0</td>\n",
       "      <td>1.0</td>\n",
       "      <td>0.0</td>\n",
       "      <td>1.0</td>\n",
       "      <td>-0.102639</td>\n",
       "    </tr>\n",
       "    <tr>\n",
       "      <th>4</th>\n",
       "      <td>0</td>\n",
       "      <td>0</td>\n",
       "      <td>0</td>\n",
       "      <td>0</td>\n",
       "      <td>0</td>\n",
       "      <td>0</td>\n",
       "      <td>0</td>\n",
       "      <td>0</td>\n",
       "      <td>0</td>\n",
       "      <td>0</td>\n",
       "      <td>...</td>\n",
       "      <td>1.0</td>\n",
       "      <td>0.0</td>\n",
       "      <td>1.0</td>\n",
       "      <td>0.0</td>\n",
       "      <td>0.0</td>\n",
       "      <td>0.0</td>\n",
       "      <td>1.0</td>\n",
       "      <td>0.0</td>\n",
       "      <td>0.0</td>\n",
       "      <td>-0.117073</td>\n",
       "    </tr>\n",
       "  </tbody>\n",
       "</table>\n",
       "<p>5 rows × 3128 columns</p>\n",
       "</div>"
      ],
      "text/plain": [
       "   4-aminobenzoic acid  aclarubicin  adenosine triphosphate  alfentanil  \\\n",
       "0                    0            0                       0           0   \n",
       "1                    0            0                       0           0   \n",
       "2                    0            0                       0           0   \n",
       "3                    0            0                       0           0   \n",
       "4                    0            0                       0           0   \n",
       "\n",
       "   aluminum hydroxide  mitomycin  ammonium chloride  belladonna alkaloids  \\\n",
       "0                   0          0                  0                     0   \n",
       "1                   0          0                  0                     0   \n",
       "2                   0          0                  0                     0   \n",
       "3                   0          0                  0                     0   \n",
       "4                   0          0                  0                     0   \n",
       "\n",
       "   boric acid  calcium phosphate  ...  EYE  CONG  METAB  BLOOD  STAT  DEV  \\\n",
       "0           0                  0  ...  1.0   0.0    1.0    0.0   1.0  1.0   \n",
       "1           0                  0  ...  0.0   0.0    1.0    0.0   0.0  0.0   \n",
       "2           0                  0  ...  0.0   1.0    1.0    0.0   0.0  0.0   \n",
       "3           0                  0  ...  1.0   0.0    1.0    1.0   0.0  0.0   \n",
       "4           0                  0  ...  1.0   0.0    1.0    0.0   0.0  0.0   \n",
       "\n",
       "   MENTAL  HEARING   ID     Label  \n",
       "0     1.0      0.0  0.0  0.029630  \n",
       "1     0.0      0.0  0.0 -0.045685  \n",
       "2     0.0      0.0  0.0  0.015936  \n",
       "3     1.0      0.0  1.0 -0.102639  \n",
       "4     1.0      0.0  0.0 -0.117073  \n",
       "\n",
       "[5 rows x 3128 columns]"
      ]
     },
     "execution_count": 1,
     "metadata": {},
     "output_type": "execute_result"
    }
   ],
   "source": [
    "import pandas as pd\n",
    "import numpy as np\n",
    "\n",
    "\n",
    "df_weight = pd.read_csv('df_weight')\n",
    "df_weight.head()"
   ]
  },
  {
   "cell_type": "code",
   "execution_count": 2,
   "id": "783194e1",
   "metadata": {},
   "outputs": [],
   "source": [
    "#EDA Data Analysis"
   ]
  },
  {
   "cell_type": "code",
   "execution_count": 3,
   "id": "a347a906",
   "metadata": {},
   "outputs": [
    {
     "name": "stdout",
     "output_type": "stream",
     "text": [
      "mean percent weight loss:  -0.04439553902684673\n",
      "mean percent weight loss, males:  -0.03661993301560627\n",
      "mean percent weight loss, females:  -0.050759206350623934\n",
      "Percent of patients that lost 10% weight: 18.099999999999998%\n",
      "Percent of males that lost 10% weight: 12.8%\n",
      "Percent of females that lost 10% weight: 22.5%\n",
      "Percent of patients that lost 5% weight: 41.9%\n",
      "Percent of males that lost 5% weight: 36.4%\n",
      "Percent of females that lost 5% weight: 46.400000000000006%\n"
     ]
    }
   ],
   "source": [
    "import numpy as np\n",
    "\n",
    "print('mean percent weight loss: ', np.mean(df_weight['Label']))\n",
    "print('mean percent weight loss, males: ', np.mean(df_weight[df_weight['SEX'] == 1]['Label']))\n",
    "print('mean percent weight loss, females: ', np.mean(df_weight[df_weight['SEX'] == 0]['Label']))\n",
    "\n",
    "lost_weight = df_weight[df_weight['Label'] <= -.1].shape[0] / df_weight.shape[0]\n",
    "print('Percent of patients that lost 10% weight: '+  str(np.round(lost_weight,3)*100) + '%')\n",
    "\n",
    "lost_weight_males = df_weight[(df_weight['Label'] <= -.1) & (df_weight['SEX'] == 1)].shape[0]/df_weight[df_weight['SEX'] == 1].shape[0]\n",
    "print('Percent of males that lost 10% weight: '+  str(np.round(lost_weight_males,3)*100) + '%')\n",
    "\n",
    "lost_weight_females = df_weight[(df_weight['Label'] <= -.1) & (df_weight['SEX'] == 0)].shape[0]/df_weight[df_weight['SEX'] == 0].shape[0]\n",
    "print('Percent of females that lost 10% weight: '+  str(np.round(lost_weight_females,3)*100) + '%')\n",
    "\n",
    "lost_weight = df_weight[df_weight['Label'] <= -.05].shape[0] / df_weight.shape[0]\n",
    "print('Percent of patients that lost 5% weight: '+  str(np.round(lost_weight,3)*100) + '%')\n",
    "\n",
    "lost_weight_males = df_weight[(df_weight['Label'] <= -.05) & (df_weight['SEX'] == 1)].shape[0]/df_weight[df_weight['SEX'] == 1].shape[0]\n",
    "print('Percent of males that lost 5% weight: '+  str(np.round(lost_weight_males,3)*100) + '%')\n",
    "\n",
    "lost_weight_females = df_weight[(df_weight['Label'] <= -.05) & (df_weight['SEX'] == 0)].shape[0]/df_weight[df_weight['SEX'] == 0].shape[0]\n",
    "print('Percent of females that lost 5% weight: '+  str(np.round(lost_weight_females,3)*100) + '%')"
   ]
  },
  {
   "cell_type": "code",
   "execution_count": 5,
   "id": "55db3b4e",
   "metadata": {},
   "outputs": [
    {
     "data": {
      "text/plain": [
       "Text(0.5, 1.0, 'Histogram of Percent Weight Loss, All Patients')"
      ]
     },
     "execution_count": 5,
     "metadata": {},
     "output_type": "execute_result"
    },
    {
     "data": {
      "image/png": "[encoded data removed]",
      "text/plain": [
       "<Figure size 432x288 with 1 Axes>"
      ]
     },
     "metadata": {
      "needs_background": "light"
     },
     "output_type": "display_data"
    }
   ],
   "source": [
    "import matplotlib.pyplot as plt\n",
    "\n",
    "plt.hist(df_weight['Label'], bins=20)\n",
    "plt.xlabel('Percent Weight Loss')\n",
    "plt.ylabel('Number of Patients')\n",
    "plt.title('Histogram of Percent Weight Loss, All Patients')"
   ]
  },
  {
   "cell_type": "code",
   "execution_count": 6,
   "id": "cbf953da",
   "metadata": {},
   "outputs": [
    {
     "data": {
      "text/plain": [
       "Text(0.5, 1.0, 'Histogram of Percent Weight Loss, Males')"
      ]
     },
     "execution_count": 6,
     "metadata": {},
     "output_type": "execute_result"
    },
    {
     "data": {
      "image/png": "[encoded data removed]",
      "text/plain": [
       "<Figure size 432x288 with 1 Axes>"
      ]
     },
     "metadata": {
      "needs_background": "light"
     },
     "output_type": "display_data"
    }
   ],
   "source": [
    "import matplotlib.pyplot as plt\n",
    "\n",
    "plt.hist(df_weight[df_weight['SEX'] == 1]['Label'], bins=20)\n",
    "plt.xlabel('Percent Weight Loss')\n",
    "plt.ylabel('Number of Patients')\n",
    "plt.title('Histogram of Percent Weight Loss, Males')"
   ]
  },
  {
   "cell_type": "code",
   "execution_count": 7,
   "id": "9766e435",
   "metadata": {},
   "outputs": [
    {
     "data": {
      "text/plain": [
       "Text(0.5, 1.0, 'Histogram of Percent Weight Loss, Females')"
      ]
     },
     "execution_count": 7,
     "metadata": {},
     "output_type": "execute_result"
    },
    {
     "data": {
      "image/png": "[encoded data removed]",
      "text/plain": [
       "<Figure size 432x288 with 1 Axes>"
      ]
     },
     "metadata": {
      "needs_background": "light"
     },
     "output_type": "display_data"
    }
   ],
   "source": [
    "import matplotlib.pyplot as plt\n",
    "\n",
    "plt.hist(df_weight[df_weight['SEX'] == 0]['Label'], bins=20)\n",
    "plt.xlabel('Percent Weight Loss')\n",
    "plt.ylabel('Number of Patients')\n",
    "plt.title('Histogram of Percent Weight Loss, Females')"
   ]
  },
  {
   "cell_type": "code",
   "execution_count": 8,
   "id": "629f3a8a",
   "metadata": {},
   "outputs": [
    {
     "data": {
      "text/html": [
       "<div>\n",
       "<style scoped>\n",
       "    .dataframe tbody tr th:only-of-type {\n",
       "        vertical-align: middle;\n",
       "    }\n",
       "\n",
       "    .dataframe tbody tr th {\n",
       "        vertical-align: top;\n",
       "    }\n",
       "\n",
       "    .dataframe thead th {\n",
       "        text-align: right;\n",
       "    }\n",
       "</style>\n",
       "<table border=\"1\" class=\"dataframe\">\n",
       "  <thead>\n",
       "    <tr style=\"text-align: right;\">\n",
       "      <th></th>\n",
       "      <th>MUSC_SKEL</th>\n",
       "      <th>DERM</th>\n",
       "      <th>RX</th>\n",
       "      <th>RESP</th>\n",
       "      <th>GENITOURINARY</th>\n",
       "      <th>EYE</th>\n",
       "      <th>CONG</th>\n",
       "      <th>METAB</th>\n",
       "      <th>BLOOD</th>\n",
       "      <th>STAT</th>\n",
       "      <th>DEV</th>\n",
       "      <th>MENTAL</th>\n",
       "      <th>HEARING</th>\n",
       "      <th>ID</th>\n",
       "      <th>Label</th>\n",
       "    </tr>\n",
       "  </thead>\n",
       "  <tbody>\n",
       "    <tr>\n",
       "      <th>count</th>\n",
       "      <td>3555.000000</td>\n",
       "      <td>3555.000000</td>\n",
       "      <td>3555.000000</td>\n",
       "      <td>3555.000000</td>\n",
       "      <td>3555.000000</td>\n",
       "      <td>3555.000000</td>\n",
       "      <td>3555.000000</td>\n",
       "      <td>3555.000000</td>\n",
       "      <td>3555.000000</td>\n",
       "      <td>3555.000000</td>\n",
       "      <td>3555.000000</td>\n",
       "      <td>3555.000000</td>\n",
       "      <td>3555.000000</td>\n",
       "      <td>3555.000000</td>\n",
       "      <td>3555.000000</td>\n",
       "    </tr>\n",
       "    <tr>\n",
       "      <th>mean</th>\n",
       "      <td>0.590717</td>\n",
       "      <td>0.419409</td>\n",
       "      <td>0.713080</td>\n",
       "      <td>0.470886</td>\n",
       "      <td>0.536428</td>\n",
       "      <td>0.337834</td>\n",
       "      <td>0.046976</td>\n",
       "      <td>0.941491</td>\n",
       "      <td>0.187342</td>\n",
       "      <td>0.184810</td>\n",
       "      <td>0.037693</td>\n",
       "      <td>0.529395</td>\n",
       "      <td>0.149648</td>\n",
       "      <td>0.366807</td>\n",
       "      <td>-0.044396</td>\n",
       "    </tr>\n",
       "    <tr>\n",
       "      <th>std</th>\n",
       "      <td>0.491771</td>\n",
       "      <td>0.493532</td>\n",
       "      <td>0.452387</td>\n",
       "      <td>0.499222</td>\n",
       "      <td>0.498741</td>\n",
       "      <td>0.473038</td>\n",
       "      <td>0.211617</td>\n",
       "      <td>0.234737</td>\n",
       "      <td>0.390241</td>\n",
       "      <td>0.388198</td>\n",
       "      <td>0.190480</td>\n",
       "      <td>0.499205</td>\n",
       "      <td>0.356777</td>\n",
       "      <td>0.482001</td>\n",
       "      <td>0.071198</td>\n",
       "    </tr>\n",
       "    <tr>\n",
       "      <th>min</th>\n",
       "      <td>0.000000</td>\n",
       "      <td>0.000000</td>\n",
       "      <td>0.000000</td>\n",
       "      <td>0.000000</td>\n",
       "      <td>0.000000</td>\n",
       "      <td>0.000000</td>\n",
       "      <td>0.000000</td>\n",
       "      <td>0.000000</td>\n",
       "      <td>0.000000</td>\n",
       "      <td>0.000000</td>\n",
       "      <td>0.000000</td>\n",
       "      <td>0.000000</td>\n",
       "      <td>0.000000</td>\n",
       "      <td>0.000000</td>\n",
       "      <td>-0.436170</td>\n",
       "    </tr>\n",
       "    <tr>\n",
       "      <th>25%</th>\n",
       "      <td>0.000000</td>\n",
       "      <td>0.000000</td>\n",
       "      <td>0.000000</td>\n",
       "      <td>0.000000</td>\n",
       "      <td>0.000000</td>\n",
       "      <td>0.000000</td>\n",
       "      <td>0.000000</td>\n",
       "      <td>1.000000</td>\n",
       "      <td>0.000000</td>\n",
       "      <td>0.000000</td>\n",
       "      <td>0.000000</td>\n",
       "      <td>0.000000</td>\n",
       "      <td>0.000000</td>\n",
       "      <td>0.000000</td>\n",
       "      <td>-0.080499</td>\n",
       "    </tr>\n",
       "    <tr>\n",
       "      <th>50%</th>\n",
       "      <td>1.000000</td>\n",
       "      <td>0.000000</td>\n",
       "      <td>1.000000</td>\n",
       "      <td>0.000000</td>\n",
       "      <td>1.000000</td>\n",
       "      <td>0.000000</td>\n",
       "      <td>0.000000</td>\n",
       "      <td>1.000000</td>\n",
       "      <td>0.000000</td>\n",
       "      <td>0.000000</td>\n",
       "      <td>0.000000</td>\n",
       "      <td>1.000000</td>\n",
       "      <td>0.000000</td>\n",
       "      <td>0.000000</td>\n",
       "      <td>-0.037736</td>\n",
       "    </tr>\n",
       "    <tr>\n",
       "      <th>75%</th>\n",
       "      <td>1.000000</td>\n",
       "      <td>1.000000</td>\n",
       "      <td>1.000000</td>\n",
       "      <td>1.000000</td>\n",
       "      <td>1.000000</td>\n",
       "      <td>1.000000</td>\n",
       "      <td>0.000000</td>\n",
       "      <td>1.000000</td>\n",
       "      <td>0.000000</td>\n",
       "      <td>0.000000</td>\n",
       "      <td>0.000000</td>\n",
       "      <td>1.000000</td>\n",
       "      <td>0.000000</td>\n",
       "      <td>1.000000</td>\n",
       "      <td>-0.003419</td>\n",
       "    </tr>\n",
       "    <tr>\n",
       "      <th>max</th>\n",
       "      <td>1.000000</td>\n",
       "      <td>1.000000</td>\n",
       "      <td>1.000000</td>\n",
       "      <td>1.000000</td>\n",
       "      <td>1.000000</td>\n",
       "      <td>1.000000</td>\n",
       "      <td>1.000000</td>\n",
       "      <td>1.000000</td>\n",
       "      <td>1.000000</td>\n",
       "      <td>1.000000</td>\n",
       "      <td>1.000000</td>\n",
       "      <td>1.000000</td>\n",
       "      <td>1.000000</td>\n",
       "      <td>1.000000</td>\n",
       "      <td>0.380282</td>\n",
       "    </tr>\n",
       "  </tbody>\n",
       "</table>\n",
       "</div>"
      ],
      "text/plain": [
       "         MUSC_SKEL         DERM           RX         RESP  GENITOURINARY  \\\n",
       "count  3555.000000  3555.000000  3555.000000  3555.000000    3555.000000   \n",
       "mean      0.590717     0.419409     0.713080     0.470886       0.536428   \n",
       "std       0.491771     0.493532     0.452387     0.499222       0.498741   \n",
       "min       0.000000     0.000000     0.000000     0.000000       0.000000   \n",
       "25%       0.000000     0.000000     0.000000     0.000000       0.000000   \n",
       "50%       1.000000     0.000000     1.000000     0.000000       1.000000   \n",
       "75%       1.000000     1.000000     1.000000     1.000000       1.000000   \n",
       "max       1.000000     1.000000     1.000000     1.000000       1.000000   \n",
       "\n",
       "               EYE         CONG        METAB        BLOOD         STAT  \\\n",
       "count  3555.000000  3555.000000  3555.000000  3555.000000  3555.000000   \n",
       "mean      0.337834     0.046976     0.941491     0.187342     0.184810   \n",
       "std       0.473038     0.211617     0.234737     0.390241     0.388198   \n",
       "min       0.000000     0.000000     0.000000     0.000000     0.000000   \n",
       "25%       0.000000     0.000000     1.000000     0.000000     0.000000   \n",
       "50%       0.000000     0.000000     1.000000     0.000000     0.000000   \n",
       "75%       1.000000     0.000000     1.000000     0.000000     0.000000   \n",
       "max       1.000000     1.000000     1.000000     1.000000     1.000000   \n",
       "\n",
       "               DEV       MENTAL      HEARING           ID        Label  \n",
       "count  3555.000000  3555.000000  3555.000000  3555.000000  3555.000000  \n",
       "mean      0.037693     0.529395     0.149648     0.366807    -0.044396  \n",
       "std       0.190480     0.499205     0.356777     0.482001     0.071198  \n",
       "min       0.000000     0.000000     0.000000     0.000000    -0.436170  \n",
       "25%       0.000000     0.000000     0.000000     0.000000    -0.080499  \n",
       "50%       0.000000     1.000000     0.000000     0.000000    -0.037736  \n",
       "75%       0.000000     1.000000     0.000000     1.000000    -0.003419  \n",
       "max       1.000000     1.000000     1.000000     1.000000     0.380282  "
      ]
     },
     "execution_count": 8,
     "metadata": {},
     "output_type": "execute_result"
    }
   ],
   "source": [
    "df_weight.iloc[:, -15:].describe()"
   ]
  },
  {
   "cell_type": "code",
   "execution_count": 9,
   "id": "c754dcc0",
   "metadata": {},
   "outputs": [
    {
     "data": {
      "text/html": [
       "<div>\n",
       "<style scoped>\n",
       "    .dataframe tbody tr th:only-of-type {\n",
       "        vertical-align: middle;\n",
       "    }\n",
       "\n",
       "    .dataframe tbody tr th {\n",
       "        vertical-align: top;\n",
       "    }\n",
       "\n",
       "    .dataframe thead th {\n",
       "        text-align: right;\n",
       "    }\n",
       "</style>\n",
       "<table border=\"1\" class=\"dataframe\">\n",
       "  <thead>\n",
       "    <tr style=\"text-align: right;\">\n",
       "      <th></th>\n",
       "      <th>andexanet alfa</th>\n",
       "      <th>SEX</th>\n",
       "      <th>RACE</th>\n",
       "      <th>AGE</th>\n",
       "      <th>INIT_WT</th>\n",
       "      <th>SEMA_WEEKS</th>\n",
       "      <th>CARDIO</th>\n",
       "      <th>ENDO</th>\n",
       "      <th>GI</th>\n",
       "      <th>SIGNS_SYMPTOMS</th>\n",
       "      <th>NEURO</th>\n",
       "      <th>NEOPLASMS</th>\n",
       "    </tr>\n",
       "  </thead>\n",
       "  <tbody>\n",
       "    <tr>\n",
       "      <th>count</th>\n",
       "      <td>3555.0</td>\n",
       "      <td>3555.000000</td>\n",
       "      <td>3555.000000</td>\n",
       "      <td>3555.000000</td>\n",
       "      <td>3555.000000</td>\n",
       "      <td>3555.000000</td>\n",
       "      <td>3555.000000</td>\n",
       "      <td>3555.000000</td>\n",
       "      <td>3555.000000</td>\n",
       "      <td>3555.000000</td>\n",
       "      <td>3555.000000</td>\n",
       "      <td>3555.000000</td>\n",
       "    </tr>\n",
       "    <tr>\n",
       "      <th>mean</th>\n",
       "      <td>0.0</td>\n",
       "      <td>0.450070</td>\n",
       "      <td>0.733052</td>\n",
       "      <td>55.030661</td>\n",
       "      <td>239.561463</td>\n",
       "      <td>64.542616</td>\n",
       "      <td>0.822504</td>\n",
       "      <td>0.952743</td>\n",
       "      <td>0.562588</td>\n",
       "      <td>0.737271</td>\n",
       "      <td>0.612658</td>\n",
       "      <td>0.218847</td>\n",
       "    </tr>\n",
       "    <tr>\n",
       "      <th>std</th>\n",
       "      <td>0.0</td>\n",
       "      <td>0.497571</td>\n",
       "      <td>0.442427</td>\n",
       "      <td>12.607664</td>\n",
       "      <td>57.794708</td>\n",
       "      <td>43.227670</td>\n",
       "      <td>0.382142</td>\n",
       "      <td>0.212219</td>\n",
       "      <td>0.496137</td>\n",
       "      <td>0.440178</td>\n",
       "      <td>0.487211</td>\n",
       "      <td>0.413523</td>\n",
       "    </tr>\n",
       "    <tr>\n",
       "      <th>min</th>\n",
       "      <td>0.0</td>\n",
       "      <td>0.000000</td>\n",
       "      <td>0.000000</td>\n",
       "      <td>18.000000</td>\n",
       "      <td>106.000000</td>\n",
       "      <td>12.000000</td>\n",
       "      <td>0.000000</td>\n",
       "      <td>0.000000</td>\n",
       "      <td>0.000000</td>\n",
       "      <td>0.000000</td>\n",
       "      <td>0.000000</td>\n",
       "      <td>0.000000</td>\n",
       "    </tr>\n",
       "    <tr>\n",
       "      <th>25%</th>\n",
       "      <td>0.0</td>\n",
       "      <td>0.000000</td>\n",
       "      <td>0.000000</td>\n",
       "      <td>47.000000</td>\n",
       "      <td>199.000000</td>\n",
       "      <td>27.000000</td>\n",
       "      <td>1.000000</td>\n",
       "      <td>1.000000</td>\n",
       "      <td>0.000000</td>\n",
       "      <td>0.000000</td>\n",
       "      <td>0.000000</td>\n",
       "      <td>0.000000</td>\n",
       "    </tr>\n",
       "    <tr>\n",
       "      <th>50%</th>\n",
       "      <td>0.0</td>\n",
       "      <td>0.000000</td>\n",
       "      <td>1.000000</td>\n",
       "      <td>56.000000</td>\n",
       "      <td>232.000000</td>\n",
       "      <td>54.000000</td>\n",
       "      <td>1.000000</td>\n",
       "      <td>1.000000</td>\n",
       "      <td>1.000000</td>\n",
       "      <td>1.000000</td>\n",
       "      <td>1.000000</td>\n",
       "      <td>0.000000</td>\n",
       "    </tr>\n",
       "    <tr>\n",
       "      <th>75%</th>\n",
       "      <td>0.0</td>\n",
       "      <td>1.000000</td>\n",
       "      <td>1.000000</td>\n",
       "      <td>64.000000</td>\n",
       "      <td>271.000000</td>\n",
       "      <td>96.000000</td>\n",
       "      <td>1.000000</td>\n",
       "      <td>1.000000</td>\n",
       "      <td>1.000000</td>\n",
       "      <td>1.000000</td>\n",
       "      <td>1.000000</td>\n",
       "      <td>0.000000</td>\n",
       "    </tr>\n",
       "    <tr>\n",
       "      <th>max</th>\n",
       "      <td>0.0</td>\n",
       "      <td>1.000000</td>\n",
       "      <td>1.000000</td>\n",
       "      <td>86.000000</td>\n",
       "      <td>560.000000</td>\n",
       "      <td>196.000000</td>\n",
       "      <td>1.000000</td>\n",
       "      <td>1.000000</td>\n",
       "      <td>1.000000</td>\n",
       "      <td>1.000000</td>\n",
       "      <td>1.000000</td>\n",
       "      <td>1.000000</td>\n",
       "    </tr>\n",
       "  </tbody>\n",
       "</table>\n",
       "</div>"
      ],
      "text/plain": [
       "       andexanet alfa          SEX         RACE          AGE      INIT_WT  \\\n",
       "count          3555.0  3555.000000  3555.000000  3555.000000  3555.000000   \n",
       "mean              0.0     0.450070     0.733052    55.030661   239.561463   \n",
       "std               0.0     0.497571     0.442427    12.607664    57.794708   \n",
       "min               0.0     0.000000     0.000000    18.000000   106.000000   \n",
       "25%               0.0     0.000000     0.000000    47.000000   199.000000   \n",
       "50%               0.0     0.000000     1.000000    56.000000   232.000000   \n",
       "75%               0.0     1.000000     1.000000    64.000000   271.000000   \n",
       "max               0.0     1.000000     1.000000    86.000000   560.000000   \n",
       "\n",
       "        SEMA_WEEKS       CARDIO         ENDO           GI  SIGNS_SYMPTOMS  \\\n",
       "count  3555.000000  3555.000000  3555.000000  3555.000000     3555.000000   \n",
       "mean     64.542616     0.822504     0.952743     0.562588        0.737271   \n",
       "std      43.227670     0.382142     0.212219     0.496137        0.440178   \n",
       "min      12.000000     0.000000     0.000000     0.000000        0.000000   \n",
       "25%      27.000000     1.000000     1.000000     0.000000        0.000000   \n",
       "50%      54.000000     1.000000     1.000000     1.000000        1.000000   \n",
       "75%      96.000000     1.000000     1.000000     1.000000        1.000000   \n",
       "max     196.000000     1.000000     1.000000     1.000000        1.000000   \n",
       "\n",
       "             NEURO    NEOPLASMS  \n",
       "count  3555.000000  3555.000000  \n",
       "mean      0.612658     0.218847  \n",
       "std       0.487211     0.413523  \n",
       "min       0.000000     0.000000  \n",
       "25%       0.000000     0.000000  \n",
       "50%       1.000000     0.000000  \n",
       "75%       1.000000     0.000000  \n",
       "max       1.000000     1.000000  "
      ]
     },
     "execution_count": 9,
     "metadata": {},
     "output_type": "execute_result"
    }
   ],
   "source": [
    "df_weight.iloc[:, -27:-15].describe()"
   ]
  },
  {
   "cell_type": "code",
   "execution_count": 10,
   "id": "1d7fc8b3",
   "metadata": {},
   "outputs": [
    {
     "data": {
      "text/plain": [
       "-157.82614124044"
      ]
     },
     "execution_count": 10,
     "metadata": {},
     "output_type": "execute_result"
    }
   ],
   "source": [
    "df_weight['Label'].sum()"
   ]
  },
  {
   "cell_type": "code",
   "execution_count": 11,
   "id": "b60ee0d0",
   "metadata": {},
   "outputs": [
    {
     "data": {
      "text/plain": [
       "2398"
      ]
     },
     "execution_count": 11,
     "metadata": {},
     "output_type": "execute_result"
    }
   ],
   "source": [
    "df_weight['metformin'].sum()"
   ]
  },
  {
   "cell_type": "code",
   "execution_count": 12,
   "id": "102e0934",
   "metadata": {},
   "outputs": [
    {
     "name": "stdout",
     "output_type": "stream",
     "text": [
      "-64.92394470024391 0.0\n"
     ]
    }
   ],
   "source": [
    "from statsmodels.stats.proportion import proportions_ztest\n",
    "\n",
    "count = df_weight[df_weight['Label'] <= -.1].shape[0] \n",
    "nobs = df_weight.shape[0]\n",
    "null_hypothesis = 0.6\n",
    "\n",
    "stat, pval = proportions_ztest(count, nobs, value=null_hypothesis, alternative='smaller')\n",
    "print(stat, pval)"
   ]
  },
  {
   "cell_type": "code",
   "execution_count": 13,
   "id": "f5395c8e",
   "metadata": {},
   "outputs": [
    {
     "data": {
      "text/plain": [
       "-0.04439553902684673"
      ]
     },
     "execution_count": 13,
     "metadata": {},
     "output_type": "execute_result"
    }
   ],
   "source": [
    "df_weight['Label'].mean()"
   ]
  },
  {
   "cell_type": "code",
   "execution_count": 14,
   "id": "7cbd647d",
   "metadata": {},
   "outputs": [
    {
     "data": {
      "text/plain": [
       "0.005069218997762218"
      ]
     },
     "execution_count": 14,
     "metadata": {},
     "output_type": "execute_result"
    }
   ],
   "source": [
    "df_weight['Label'].var()"
   ]
  },
  {
   "cell_type": "code",
   "execution_count": 15,
   "id": "e80ce891",
   "metadata": {},
   "outputs": [
    {
     "data": {
      "text/plain": [
       "3555"
      ]
     },
     "execution_count": 15,
     "metadata": {},
     "output_type": "execute_result"
    }
   ],
   "source": [
    "df_weight.shape[0]"
   ]
  },
  {
   "cell_type": "code",
   "execution_count": 16,
   "id": "0e981a10",
   "metadata": {},
   "outputs": [
    {
     "data": {
      "text/plain": [
       "0.4191279887482419"
      ]
     },
     "execution_count": 16,
     "metadata": {},
     "output_type": "execute_result"
    }
   ],
   "source": [
    "df_weight[df_weight['Label'] <= -.05].shape[0] / df_weight.shape[0]"
   ]
  },
  {
   "cell_type": "code",
   "execution_count": 17,
   "id": "789a615b",
   "metadata": {},
   "outputs": [
    {
     "data": {
      "text/plain": [
       "0.18087201125175809"
      ]
     },
     "execution_count": 17,
     "metadata": {},
     "output_type": "execute_result"
    }
   ],
   "source": [
    "df_weight[df_weight['Label'] <= -.1].shape[0] / df_weight.shape[0]"
   ]
  },
  {
   "cell_type": "code",
   "execution_count": 18,
   "id": "b5054184",
   "metadata": {},
   "outputs": [
    {
     "data": {
      "text/plain": [
       "0.1275"
      ]
     },
     "execution_count": 18,
     "metadata": {},
     "output_type": "execute_result"
    }
   ],
   "source": [
    "#Proportion of Males that lost 10% weight\n",
    "df_weight[(df_weight['Label'] <= -.1) & (df_weight['SEX'] == 1)].shape[0] / df_weight[df_weight['SEX'] == 1].shape[0]\n"
   ]
  },
  {
   "cell_type": "code",
   "execution_count": 19,
   "id": "2388f9c0",
   "metadata": {},
   "outputs": [
    {
     "data": {
      "text/plain": [
       "0.22455242966751918"
      ]
     },
     "execution_count": 19,
     "metadata": {},
     "output_type": "execute_result"
    }
   ],
   "source": [
    "#Proportion of Females that lost 10% weight\n",
    "df_weight[(df_weight['Label'] <= -.1) & (df_weight['SEX'] == 0)].shape[0] / df_weight[df_weight['SEX'] == 0].shape[0]"
   ]
  },
  {
   "cell_type": "code",
   "execution_count": 32,
   "id": "afdc7c13",
   "metadata": {},
   "outputs": [
    {
     "name": "stdout",
     "output_type": "stream",
     "text": [
      "Number of Males: 1600\n",
      "Number of Females: 1955\n",
      "Number of White Individuals: 2606\n",
      "Mean Age: 55.03066104078762\n",
      "SD of Age 12.60766416988653\n",
      "Mean Wnitial Weight: 239.56146272855133\n",
      "SD of Initial Weight 57.794708094555645\n",
      "Mean weeks on semaglutide: 64.54261603375528\n",
      "SD of weeks on semaglutide: 43.22767034977862\n"
     ]
    }
   ],
   "source": [
    "print('Number of Males:', df_weight[df_weight['SEX'] == 1].shape[0])\n",
    "print('Number of Females:', df_weight[df_weight['SEX'] == 0].shape[0])\n",
    "print('Number of White Individuals:', df_weight[df_weight['RACE'] == 1].shape[0])\n",
    "print('Mean Age:', df_weight['AGE'].mean())\n",
    "print('SD of Age', np.sqrt(df_weight['AGE'].var()))\n",
    "print('Mean Wnitial Weight:', df_weight['INIT_WT'].mean())\n",
    "print('SD of Initial Weight', np.sqrt(df_weight['INIT_WT'].var()))\n",
    "print('Mean weeks on semaglutide:', df_weight['SEMA_WEEKS'].mean())\n",
    "print('SD of weeks on semaglutide:', np.sqrt(df_weight['SEMA_WEEKS'].var()))"
   ]
  },
  {
   "cell_type": "code",
   "execution_count": 26,
   "id": "e51b0dfa",
   "metadata": {},
   "outputs": [
    {
     "name": "stdout",
     "output_type": "stream",
     "text": [
      "cardio 2924.0\n",
      "metab 3347.0\n"
     ]
    }
   ],
   "source": [
    "print('cardio', df_weight['CARDIO'].sum())\n",
    "print('metab',df_weight['METAB'].sum())"
   ]
  },
  {
   "cell_type": "code",
   "execution_count": 27,
   "id": "81ab9818",
   "metadata": {},
   "outputs": [
    {
     "name": "stdout",
     "output_type": "stream",
     "text": [
      "0.364375\n",
      "0.4639386189258312\n",
      "0.4191279887482419\n"
     ]
    }
   ],
   "source": [
    "#Proportion of Males that lost 5% weight\n",
    "print(df_weight[(df_weight['Label'] <= -.05) & (df_weight['SEX'] == 1)].shape[0] / df_weight[df_weight['SEX'] == 1].shape[0])\n",
    "\n",
    "#Proportion of Females that lost 5% weight\n",
    "print(df_weight[(df_weight['Label'] <= -.05) & (df_weight['SEX'] == 0)].shape[0] / df_weight[df_weight['SEX'] == 0].shape[0])\n",
    "\n",
    "#Proportion of all patients that lost 5% weight\n",
    "print(df_weight[df_weight['Label'] <= -.05].shape[0] / df_weight.shape[0])\n"
   ]
  },
  {
   "cell_type": "code",
   "execution_count": 13,
   "id": "f829919b",
   "metadata": {},
   "outputs": [
    {
     "data": {
      "image/png": "[encoded data removed]",
      "text/plain": [
       "<Figure size 432x288 with 1 Axes>"
      ]
     },
     "metadata": {
      "needs_background": "light"
     },
     "output_type": "display_data"
    },
    {
     "data": {
      "text/plain": [
       "<Figure size 7200x3600 with 0 Axes>"
      ]
     },
     "metadata": {},
     "output_type": "display_data"
    }
   ],
   "source": [
    "import matplotlib.pyplot as plt\n",
    "from matplotlib import figure\n",
    "import seaborn as sns\n",
    "import warnings\n",
    "warnings.filterwarnings('ignore')\n",
    "\n",
    "sns.distplot(df_weight[df_weight['SEX'] == 1]['Label'], hist = False, kde = True,\n",
    "                 kde_kws = {'linewidth': 3},\n",
    "                 label = 'Males')\n",
    "\n",
    "sns.distplot(df_weight[df_weight['SEX'] == 0]['Label'], hist = False, kde = True,\n",
    "                 kde_kws = {'linewidth': 3},\n",
    "                 label = 'Females')\n",
    "# Plot formatting\n",
    "plt.legend()\n",
    "plt.title('Figure 3')\n",
    "plt.grid(linestyle = '--', linewidth = 0.5)\n",
    "plt.xlabel('Percent Weight Loss')\n",
    "plt.ylabel('Density')\n",
    "plt.figure(figsize=(100,50))\n",
    "plt.savefig('figure3.png', dpi=100)\n",
    "plt.show()"
   ]
  },
  {
   "cell_type": "code",
   "execution_count": 2,
   "id": "019f1748",
   "metadata": {},
   "outputs": [
    {
     "name": "stdout",
     "output_type": "stream",
     "text": [
      "0.1275\n",
      "0.22455242966751918\n",
      "0.18087201125175809\n"
     ]
    }
   ],
   "source": [
    "#Proportion of Males that lost 10% weight\n",
    "print(df_weight[(df_weight['Label'] <= -.1) & (df_weight['SEX'] == 1)].shape[0] / df_weight[df_weight['SEX'] == 1].shape[0])\n",
    "\n",
    "#Proportion of Females that lost 10% weight\n",
    "print(df_weight[(df_weight['Label'] <= -.1) & (df_weight['SEX'] == 0)].shape[0] / df_weight[df_weight['SEX'] == 0].shape[0])\n",
    "\n",
    "#Proportion of all patients that lost 10% weight\n",
    "print(df_weight[df_weight['Label'] <= -.1].shape[0] / df_weight.shape[0])"
   ]
  },
  {
   "cell_type": "code",
   "execution_count": 8,
   "id": "84aae4ad",
   "metadata": {},
   "outputs": [
    {
     "name": "stdout",
     "output_type": "stream",
     "text": [
      "-0.050759206350623934\n",
      "0.005835160122303818\n",
      "-0.03661993301560627\n",
      "0.004026388473473404\n"
     ]
    }
   ],
   "source": [
    "#variances for male and female labels\n",
    "\n",
    "#Females\n",
    "print(df_weight[df_weight['SEX'] == 0]['Label'].mean())\n",
    "print(df_weight[df_weight['SEX'] == 0]['Label'].var())\n",
    "\n",
    "#Males\n",
    "print(df_weight[df_weight['SEX'] == 1]['Label'].mean())\n",
    "print(df_weight[df_weight['SEX'] == 1]['Label'].var())"
   ]
  },
  {
   "cell_type": "code",
   "execution_count": 9,
   "id": "6adc71a5",
   "metadata": {},
   "outputs": [
    {
     "data": {
      "text/plain": [
       "(3555, 3128)"
      ]
     },
     "execution_count": 9,
     "metadata": {},
     "output_type": "execute_result"
    }
   ],
   "source": [
    "df_weight.shape"
   ]
  },
  {
   "cell_type": "code",
   "execution_count": 10,
   "id": "10ef8e7c",
   "metadata": {},
   "outputs": [
    {
     "name": "stdout",
     "output_type": "stream",
     "text": [
      "(3555, 1170)\n"
     ]
    }
   ],
   "source": [
    "X = df_weight.iloc[:,:-1]\n",
    "X = X.drop(X.columns[X.sum() == 0], axis=1)\n",
    "print(X.shape)"
   ]
  },
  {
   "cell_type": "code",
   "execution_count": 12,
   "id": "b733df4b",
   "metadata": {},
   "outputs": [
    {
     "data": {
      "text/html": [
       "<div>\n",
       "<style scoped>\n",
       "    .dataframe tbody tr th:only-of-type {\n",
       "        vertical-align: middle;\n",
       "    }\n",
       "\n",
       "    .dataframe tbody tr th {\n",
       "        vertical-align: top;\n",
       "    }\n",
       "\n",
       "    .dataframe thead th {\n",
       "        text-align: right;\n",
       "    }\n",
       "</style>\n",
       "<table border=\"1\" class=\"dataframe\">\n",
       "  <thead>\n",
       "    <tr style=\"text-align: right;\">\n",
       "      <th></th>\n",
       "      <th>letermovir</th>\n",
       "      <th>netarsudil</th>\n",
       "      <th>avatrombopag</th>\n",
       "      <th>fremanezumab</th>\n",
       "      <th>trifarotene</th>\n",
       "      <th>SEX</th>\n",
       "      <th>RACE</th>\n",
       "      <th>AGE</th>\n",
       "      <th>INIT_WT</th>\n",
       "      <th>SEMA_WEEKS</th>\n",
       "      <th>...</th>\n",
       "      <th>GENITOURINARY</th>\n",
       "      <th>EYE</th>\n",
       "      <th>CONG</th>\n",
       "      <th>METAB</th>\n",
       "      <th>BLOOD</th>\n",
       "      <th>STAT</th>\n",
       "      <th>DEV</th>\n",
       "      <th>MENTAL</th>\n",
       "      <th>HEARING</th>\n",
       "      <th>ID</th>\n",
       "    </tr>\n",
       "  </thead>\n",
       "  <tbody>\n",
       "    <tr>\n",
       "      <th>0</th>\n",
       "      <td>0</td>\n",
       "      <td>0</td>\n",
       "      <td>0</td>\n",
       "      <td>0</td>\n",
       "      <td>0</td>\n",
       "      <td>1.0</td>\n",
       "      <td>1.0</td>\n",
       "      <td>28.0</td>\n",
       "      <td>270.0</td>\n",
       "      <td>46.0</td>\n",
       "      <td>...</td>\n",
       "      <td>0.0</td>\n",
       "      <td>1.0</td>\n",
       "      <td>0.0</td>\n",
       "      <td>1.0</td>\n",
       "      <td>0.0</td>\n",
       "      <td>1.0</td>\n",
       "      <td>1.0</td>\n",
       "      <td>1.0</td>\n",
       "      <td>0.0</td>\n",
       "      <td>0.0</td>\n",
       "    </tr>\n",
       "    <tr>\n",
       "      <th>1</th>\n",
       "      <td>0</td>\n",
       "      <td>0</td>\n",
       "      <td>0</td>\n",
       "      <td>0</td>\n",
       "      <td>0</td>\n",
       "      <td>1.0</td>\n",
       "      <td>1.0</td>\n",
       "      <td>72.0</td>\n",
       "      <td>197.0</td>\n",
       "      <td>64.0</td>\n",
       "      <td>...</td>\n",
       "      <td>0.0</td>\n",
       "      <td>0.0</td>\n",
       "      <td>0.0</td>\n",
       "      <td>1.0</td>\n",
       "      <td>0.0</td>\n",
       "      <td>0.0</td>\n",
       "      <td>0.0</td>\n",
       "      <td>0.0</td>\n",
       "      <td>0.0</td>\n",
       "      <td>0.0</td>\n",
       "    </tr>\n",
       "    <tr>\n",
       "      <th>2</th>\n",
       "      <td>0</td>\n",
       "      <td>0</td>\n",
       "      <td>0</td>\n",
       "      <td>0</td>\n",
       "      <td>0</td>\n",
       "      <td>1.0</td>\n",
       "      <td>1.0</td>\n",
       "      <td>43.0</td>\n",
       "      <td>251.0</td>\n",
       "      <td>75.0</td>\n",
       "      <td>...</td>\n",
       "      <td>0.0</td>\n",
       "      <td>0.0</td>\n",
       "      <td>1.0</td>\n",
       "      <td>1.0</td>\n",
       "      <td>0.0</td>\n",
       "      <td>0.0</td>\n",
       "      <td>0.0</td>\n",
       "      <td>0.0</td>\n",
       "      <td>0.0</td>\n",
       "      <td>0.0</td>\n",
       "    </tr>\n",
       "    <tr>\n",
       "      <th>3</th>\n",
       "      <td>0</td>\n",
       "      <td>0</td>\n",
       "      <td>0</td>\n",
       "      <td>0</td>\n",
       "      <td>0</td>\n",
       "      <td>1.0</td>\n",
       "      <td>0.0</td>\n",
       "      <td>53.0</td>\n",
       "      <td>341.0</td>\n",
       "      <td>172.0</td>\n",
       "      <td>...</td>\n",
       "      <td>0.0</td>\n",
       "      <td>1.0</td>\n",
       "      <td>0.0</td>\n",
       "      <td>1.0</td>\n",
       "      <td>1.0</td>\n",
       "      <td>0.0</td>\n",
       "      <td>0.0</td>\n",
       "      <td>1.0</td>\n",
       "      <td>0.0</td>\n",
       "      <td>1.0</td>\n",
       "    </tr>\n",
       "    <tr>\n",
       "      <th>4</th>\n",
       "      <td>0</td>\n",
       "      <td>0</td>\n",
       "      <td>0</td>\n",
       "      <td>0</td>\n",
       "      <td>0</td>\n",
       "      <td>0.0</td>\n",
       "      <td>1.0</td>\n",
       "      <td>71.0</td>\n",
       "      <td>205.0</td>\n",
       "      <td>166.0</td>\n",
       "      <td>...</td>\n",
       "      <td>0.0</td>\n",
       "      <td>1.0</td>\n",
       "      <td>0.0</td>\n",
       "      <td>1.0</td>\n",
       "      <td>0.0</td>\n",
       "      <td>0.0</td>\n",
       "      <td>0.0</td>\n",
       "      <td>1.0</td>\n",
       "      <td>0.0</td>\n",
       "      <td>0.0</td>\n",
       "    </tr>\n",
       "    <tr>\n",
       "      <th>...</th>\n",
       "      <td>...</td>\n",
       "      <td>...</td>\n",
       "      <td>...</td>\n",
       "      <td>...</td>\n",
       "      <td>...</td>\n",
       "      <td>...</td>\n",
       "      <td>...</td>\n",
       "      <td>...</td>\n",
       "      <td>...</td>\n",
       "      <td>...</td>\n",
       "      <td>...</td>\n",
       "      <td>...</td>\n",
       "      <td>...</td>\n",
       "      <td>...</td>\n",
       "      <td>...</td>\n",
       "      <td>...</td>\n",
       "      <td>...</td>\n",
       "      <td>...</td>\n",
       "      <td>...</td>\n",
       "      <td>...</td>\n",
       "      <td>...</td>\n",
       "    </tr>\n",
       "    <tr>\n",
       "      <th>3550</th>\n",
       "      <td>0</td>\n",
       "      <td>0</td>\n",
       "      <td>0</td>\n",
       "      <td>0</td>\n",
       "      <td>0</td>\n",
       "      <td>1.0</td>\n",
       "      <td>1.0</td>\n",
       "      <td>45.0</td>\n",
       "      <td>298.0</td>\n",
       "      <td>29.0</td>\n",
       "      <td>...</td>\n",
       "      <td>1.0</td>\n",
       "      <td>1.0</td>\n",
       "      <td>0.0</td>\n",
       "      <td>1.0</td>\n",
       "      <td>0.0</td>\n",
       "      <td>0.0</td>\n",
       "      <td>1.0</td>\n",
       "      <td>1.0</td>\n",
       "      <td>0.0</td>\n",
       "      <td>1.0</td>\n",
       "    </tr>\n",
       "    <tr>\n",
       "      <th>3551</th>\n",
       "      <td>0</td>\n",
       "      <td>0</td>\n",
       "      <td>0</td>\n",
       "      <td>0</td>\n",
       "      <td>0</td>\n",
       "      <td>0.0</td>\n",
       "      <td>0.0</td>\n",
       "      <td>50.0</td>\n",
       "      <td>201.0</td>\n",
       "      <td>101.0</td>\n",
       "      <td>...</td>\n",
       "      <td>1.0</td>\n",
       "      <td>1.0</td>\n",
       "      <td>0.0</td>\n",
       "      <td>1.0</td>\n",
       "      <td>0.0</td>\n",
       "      <td>1.0</td>\n",
       "      <td>0.0</td>\n",
       "      <td>1.0</td>\n",
       "      <td>0.0</td>\n",
       "      <td>0.0</td>\n",
       "    </tr>\n",
       "    <tr>\n",
       "      <th>3552</th>\n",
       "      <td>0</td>\n",
       "      <td>0</td>\n",
       "      <td>0</td>\n",
       "      <td>0</td>\n",
       "      <td>0</td>\n",
       "      <td>0.0</td>\n",
       "      <td>0.0</td>\n",
       "      <td>37.0</td>\n",
       "      <td>219.0</td>\n",
       "      <td>34.0</td>\n",
       "      <td>...</td>\n",
       "      <td>0.0</td>\n",
       "      <td>0.0</td>\n",
       "      <td>0.0</td>\n",
       "      <td>1.0</td>\n",
       "      <td>1.0</td>\n",
       "      <td>0.0</td>\n",
       "      <td>0.0</td>\n",
       "      <td>0.0</td>\n",
       "      <td>0.0</td>\n",
       "      <td>1.0</td>\n",
       "    </tr>\n",
       "    <tr>\n",
       "      <th>3553</th>\n",
       "      <td>0</td>\n",
       "      <td>0</td>\n",
       "      <td>0</td>\n",
       "      <td>0</td>\n",
       "      <td>0</td>\n",
       "      <td>0.0</td>\n",
       "      <td>1.0</td>\n",
       "      <td>38.0</td>\n",
       "      <td>168.0</td>\n",
       "      <td>153.0</td>\n",
       "      <td>...</td>\n",
       "      <td>1.0</td>\n",
       "      <td>1.0</td>\n",
       "      <td>0.0</td>\n",
       "      <td>1.0</td>\n",
       "      <td>0.0</td>\n",
       "      <td>0.0</td>\n",
       "      <td>0.0</td>\n",
       "      <td>1.0</td>\n",
       "      <td>0.0</td>\n",
       "      <td>0.0</td>\n",
       "    </tr>\n",
       "    <tr>\n",
       "      <th>3554</th>\n",
       "      <td>0</td>\n",
       "      <td>0</td>\n",
       "      <td>0</td>\n",
       "      <td>0</td>\n",
       "      <td>0</td>\n",
       "      <td>1.0</td>\n",
       "      <td>1.0</td>\n",
       "      <td>58.0</td>\n",
       "      <td>235.0</td>\n",
       "      <td>156.0</td>\n",
       "      <td>...</td>\n",
       "      <td>0.0</td>\n",
       "      <td>0.0</td>\n",
       "      <td>0.0</td>\n",
       "      <td>1.0</td>\n",
       "      <td>1.0</td>\n",
       "      <td>0.0</td>\n",
       "      <td>0.0</td>\n",
       "      <td>0.0</td>\n",
       "      <td>1.0</td>\n",
       "      <td>1.0</td>\n",
       "    </tr>\n",
       "  </tbody>\n",
       "</table>\n",
       "<p>3555 rows × 30 columns</p>\n",
       "</div>"
      ],
      "text/plain": [
       "      letermovir  netarsudil  avatrombopag  fremanezumab  trifarotene  SEX  \\\n",
       "0              0           0             0             0            0  1.0   \n",
       "1              0           0             0             0            0  1.0   \n",
       "2              0           0             0             0            0  1.0   \n",
       "3              0           0             0             0            0  1.0   \n",
       "4              0           0             0             0            0  0.0   \n",
       "...          ...         ...           ...           ...          ...  ...   \n",
       "3550           0           0             0             0            0  1.0   \n",
       "3551           0           0             0             0            0  0.0   \n",
       "3552           0           0             0             0            0  0.0   \n",
       "3553           0           0             0             0            0  0.0   \n",
       "3554           0           0             0             0            0  1.0   \n",
       "\n",
       "      RACE   AGE  INIT_WT  SEMA_WEEKS  ...  GENITOURINARY  EYE  CONG  METAB  \\\n",
       "0      1.0  28.0    270.0        46.0  ...            0.0  1.0   0.0    1.0   \n",
       "1      1.0  72.0    197.0        64.0  ...            0.0  0.0   0.0    1.0   \n",
       "2      1.0  43.0    251.0        75.0  ...            0.0  0.0   1.0    1.0   \n",
       "3      0.0  53.0    341.0       172.0  ...            0.0  1.0   0.0    1.0   \n",
       "4      1.0  71.0    205.0       166.0  ...            0.0  1.0   0.0    1.0   \n",
       "...    ...   ...      ...         ...  ...            ...  ...   ...    ...   \n",
       "3550   1.0  45.0    298.0        29.0  ...            1.0  1.0   0.0    1.0   \n",
       "3551   0.0  50.0    201.0       101.0  ...            1.0  1.0   0.0    1.0   \n",
       "3552   0.0  37.0    219.0        34.0  ...            0.0  0.0   0.0    1.0   \n",
       "3553   1.0  38.0    168.0       153.0  ...            1.0  1.0   0.0    1.0   \n",
       "3554   1.0  58.0    235.0       156.0  ...            0.0  0.0   0.0    1.0   \n",
       "\n",
       "      BLOOD  STAT  DEV  MENTAL  HEARING   ID  \n",
       "0       0.0   1.0  1.0     1.0      0.0  0.0  \n",
       "1       0.0   0.0  0.0     0.0      0.0  0.0  \n",
       "2       0.0   0.0  0.0     0.0      0.0  0.0  \n",
       "3       1.0   0.0  0.0     1.0      0.0  1.0  \n",
       "4       0.0   0.0  0.0     1.0      0.0  0.0  \n",
       "...     ...   ...  ...     ...      ...  ...  \n",
       "3550    0.0   0.0  1.0     1.0      0.0  1.0  \n",
       "3551    0.0   1.0  0.0     1.0      0.0  0.0  \n",
       "3552    1.0   0.0  0.0     0.0      0.0  1.0  \n",
       "3553    0.0   0.0  0.0     1.0      0.0  0.0  \n",
       "3554    1.0   0.0  0.0     0.0      1.0  1.0  \n",
       "\n",
       "[3555 rows x 30 columns]"
      ]
     },
     "execution_count": 12,
     "metadata": {},
     "output_type": "execute_result"
    }
   ],
   "source": [
    "X.iloc[:,-30:].head()"
   ]
  },
  {
   "cell_type": "code",
   "execution_count": 5,
   "id": "8d69a19a",
   "metadata": {},
   "outputs": [
    {
     "name": "stdout",
     "output_type": "stream",
     "text": [
      "atorvastatin            1626.0\n",
      "semaglutide             3552.0\n",
      "metformin               2398.0\n",
      "potassium chloride      1141.0\n",
      "lisinopril              1074.0\n",
      "acetaminophen           1066.0\n",
      "insulin glargine        1018.0\n",
      "sodium chloride         1134.0\n",
      "SEX                     1600.0\n",
      "RACE                    2606.0\n",
      "AGE                   195634.0\n",
      "INIT_WT               851641.0\n",
      "SEMA_WEEKS            229449.0\n",
      "CARDIO                  2924.0\n",
      "ENDO                    3387.0\n",
      "GI                      2000.0\n",
      "SIGNS_SYMPTOMS          2621.0\n",
      "NEURO                   2178.0\n",
      "MUSC_SKEL               2100.0\n",
      "DERM                    1491.0\n",
      "RX                      2535.0\n",
      "RESP                    1674.0\n",
      "GENITOURINARY           1907.0\n",
      "EYE                     1201.0\n",
      "METAB                   3347.0\n",
      "MENTAL                  1882.0\n",
      "ID                      1304.0\n",
      "dtype: float64\n"
     ]
    }
   ],
   "source": [
    "X = df_weight.iloc[:,:-1]\n",
    "X = X.drop(X.columns[X.sum() <1000], axis=1)\n",
    "print(X.sum(axis=0))"
   ]
  },
  {
   "cell_type": "code",
   "execution_count": 6,
   "id": "665ad582",
   "metadata": {},
   "outputs": [
    {
     "name": "stdout",
     "output_type": "stream",
     "text": [
      "0.8225035161744022\n",
      "0.9414908579465542\n",
      "0.9527426160337553\n",
      "0.6745428973277074\n",
      "0.4573839662447257\n",
      "0.3209563994374121\n",
      "0.30210970464135023\n",
      "0.29985935302391\n"
     ]
    }
   ],
   "source": [
    "l = [2924, 3347,3387,2398,1626,1141,1074,1066]\n",
    "\n",
    "for i in range(len(l)):\n",
    "    print(l[i]/3555.0)\n"
   ]
  },
  {
   "cell_type": "code",
   "execution_count": 2,
   "id": "e8c61ade",
   "metadata": {},
   "outputs": [
    {
     "name": "stdout",
     "output_type": "stream",
     "text": [
      "fenofibrate 137 3.8537271448663852\n",
      "methylprednisolone 340 9.563994374120956\n",
      "lisdexamfetamine 80 2.250351617440225\n",
      "bupropion 452 12.71448663853727\n",
      "lorazepam 202 5.682137834036568\n",
      "pantoprazole 411 11.561181434599156\n",
      "dulaglutide 589 16.568213783403657\n",
      "formoterol 55 1.5471167369901548\n",
      "triamcinolone 419 11.786216596343179\n",
      "insulin aspart, human 723 20.337552742616033\n",
      "sugammadex 101 2.841068917018284\n",
      "insulin lispro 484 13.614627285513361\n"
     ]
    }
   ],
   "source": [
    "drugs = ['fenofibrate', 'methylprednisolone', 'lisdexamfetamine', 'bupropion', \n",
    "         'lorazepam', 'pantoprazole', 'dulaglutide', 'formoterol', 'triamcinolone', 'insulin aspart, human',\n",
    "         'sugammadex', 'insulin lispro']\n",
    "\n",
    "for drug in drugs:\n",
    "    num = df_weight[df_weight[drug] == 1].shape[0]\n",
    "    print(drug, num, (num/3555.0)*100)"
   ]
  },
  {
   "cell_type": "code",
   "execution_count": null,
   "id": "7ed58f77",
   "metadata": {},
   "outputs": [],
   "source": []
  },
  {
   "cell_type": "code",
   "execution_count": null,
   "id": "fcd58954",
   "metadata": {},
   "outputs": [],
   "source": []
  },
  {
   "cell_type": "code",
   "execution_count": null,
   "id": "e85a7ab2",
   "metadata": {},
   "outputs": [],
   "source": []
  },
  {
   "cell_type": "code",
   "execution_count": null,
   "id": "444be74c",
   "metadata": {},
   "outputs": [],
   "source": []
  },
  {
   "cell_type": "code",
   "execution_count": null,
   "id": "6209e5e5",
   "metadata": {},
   "outputs": [],
   "source": []
  }
 ],
 "metadata": {
  "kernelspec": {
   "display_name": "conda_mxnet_latest_p37",
   "language": "python",
   "name": "conda_mxnet_latest_p37"
  },
  "language_info": {
   "codemirror_mode": {
    "name": "ipython",
    "version": 3
   },
   "file_extension": ".py",
   "mimetype": "text/x-python",
   "name": "python",
   "nbconvert_exporter": "python",
   "pygments_lexer": "ipython3",
   "version": "3.7.10"
  }
 },
 "nbformat": 4,
 "nbformat_minor": 5
}
